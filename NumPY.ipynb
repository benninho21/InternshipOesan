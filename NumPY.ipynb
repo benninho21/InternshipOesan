{
 "cells": [
  {
   "cell_type": "markdown",
   "id": "84c555ef-8c76-4b16-8141-aa0f76c0023b",
   "metadata": {},
   "source": [
    "## NumPy Practice Questions:\n",
    "1. Array Creation: Create a NumPy array of integers from 1 to 10.\n",
    "2. Array Operations: Perform element-wise addition, subtraction, multiplication, and\n",
    "division on two NumPy arrays.\n",
    "3. Array Slicing: Extract the first three elements from a NumPy array.\n",
    "4. Array Reshaping: Reshape a 1D NumPy array into a 2D array with 2 rows and 3\n",
    "columns.\n",
    "5. Array Aggregation: Calculate the mean, median, and standard deviation of a NumPy\n",
    "array"
   ]
  },
  {
   "cell_type": "code",
   "execution_count": 22,
   "id": "74bb1a41-37a8-4dcb-ae4c-3d1e56500da4",
   "metadata": {},
   "outputs": [
    {
     "name": "stdout",
     "output_type": "stream",
     "text": [
      "[ 1  2  3  4  5  6  7  8  9 10]\n"
     ]
    }
   ],
   "source": [
    "# 1. Array Creation: Create a NumPy array of integers from 1 to 10.\n",
    "\n",
    "import numpy as np\n",
    "\n",
    "arr1 = np.arange(1, 11, 1)\n",
    "print(arr1)"
   ]
  },
  {
   "cell_type": "code",
   "execution_count": 23,
   "id": "9deb743c-9510-47c0-ae51-dfbd114ba6d9",
   "metadata": {},
   "outputs": [
    {
     "name": "stdout",
     "output_type": "stream",
     "text": [
      "[ 4  7  9 10 14 35 14 37 14 11]\n",
      "[ -2  -3  -3  -2  -4 -23   0 -21   4   9]\n",
      "[  3  10  18  24  45 174  49 232  45  10]\n",
      "[1. 1. 1. 1. 1. 1. 1. 1. 1. 1.]\n"
     ]
    }
   ],
   "source": [
    "# 2. Array Operations: Perform element-wise addition, subtraction, multiplication, and division on two NumPy arrays.\n",
    "\n",
    "arr2 = np.array([3, 5, 6, 6, 9, 29, 7, 29, 5, 1])\n",
    "\n",
    "arr3 = arr1 + arr2\n",
    "print(arr3)\n",
    "\n",
    "arr4 = arr1 - arr2\n",
    "print(arr4)\n",
    "\n",
    "arr5 = arr1 * arr2\n",
    "print(arr5)\n",
    "\n",
    "arr6 = arr2 / arr2\n",
    "print(arr6)"
   ]
  },
  {
   "cell_type": "code",
   "execution_count": 24,
   "id": "f491db4c-893d-45c1-9868-364550e999dd",
   "metadata": {},
   "outputs": [
    {
     "name": "stdout",
     "output_type": "stream",
     "text": [
      "[ 4  5  6  7  8  9 10]\n"
     ]
    }
   ],
   "source": [
    "# 3. Array Slicing: Extract the first three elements from a NumPy array.\n",
    "\n",
    "arr7 = arr1[3:]\n",
    "print(arr7)"
   ]
  },
  {
   "cell_type": "code",
   "execution_count": 25,
   "id": "8ff62ede-d569-4b25-838b-7a971c4dd347",
   "metadata": {},
   "outputs": [
    {
     "name": "stdout",
     "output_type": "stream",
     "text": [
      "[[ 5  6  7]\n",
      " [ 8  9 10]]\n"
     ]
    }
   ],
   "source": [
    "# 4. Array Reshaping: Reshape a 1D NumPy array into a 2D array with 2 rows and 3 columns.\n",
    "\n",
    "arr8 = arr1[4:].reshape(2, 3)\n",
    "print(arr8)"
   ]
  },
  {
   "cell_type": "code",
   "execution_count": 26,
   "id": "c5654e94-a28f-41bf-bf28-3d7a1581efea",
   "metadata": {},
   "outputs": [
    {
     "name": "stdout",
     "output_type": "stream",
     "text": [
      "5.5\n",
      "5.5\n",
      "2.8722813232690143\n"
     ]
    }
   ],
   "source": [
    "# 5. Array Aggregation: Calculate the mean, median, and standard deviation of a NumPy array\n",
    "\n",
    "mean = np.mean(arr1)\n",
    "print(mean)\n",
    "\n",
    "median = np.median(arr1)\n",
    "print(median)\n",
    "\n",
    "std = np.std(arr1)\n",
    "print(std)"
   ]
  }
 ],
 "metadata": {
  "kernelspec": {
   "display_name": "Python 3 (ipykernel)",
   "language": "python",
   "name": "python3"
  },
  "language_info": {
   "codemirror_mode": {
    "name": "ipython",
    "version": 3
   },
   "file_extension": ".py",
   "mimetype": "text/x-python",
   "name": "python",
   "nbconvert_exporter": "python",
   "pygments_lexer": "ipython3",
   "version": "3.12.4"
  }
 },
 "nbformat": 4,
 "nbformat_minor": 5
}
