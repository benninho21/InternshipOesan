{
 "cells": [
  {
   "cell_type": "markdown",
   "id": "a60abd79-658f-4223-85e4-8600e63e1cbe",
   "metadata": {},
   "source": [
    "# Practice\n",
    "## Lists:\n",
    "Question - Appending and Removing Elements: Create an empty list called my_list. Append\n",
    "the numbers 1, 2, and 3 to my_list. Then remove the number 2 from the list."
   ]
  },
  {
   "cell_type": "code",
   "execution_count": 38,
   "id": "47748d85-ef8f-4678-b98f-62db7b59b705",
   "metadata": {},
   "outputs": [
    {
     "name": "stdout",
     "output_type": "stream",
     "text": [
      "[1, 2, 3]\n"
     ]
    }
   ],
   "source": [
    "my_list = []\n",
    "\n",
    "my_list.append(1)\n",
    "my_list.append(2)\n",
    "my_list.append(3)\n",
    "\n",
    "print(my_list)"
   ]
  },
  {
   "cell_type": "markdown",
   "id": "1f151488-d8f9-423b-99aa-6201c23521ba",
   "metadata": {},
   "source": [
    "Question- Accessing Elements: Create a list called fruits containing the strings \"apple\",\n",
    "\"banana\", \"cherry\", \"date\". Print the second element of the list."
   ]
  },
  {
   "cell_type": "code",
   "execution_count": 40,
   "id": "6c844be4-d898-47f1-b230-1805728ab8f6",
   "metadata": {},
   "outputs": [
    {
     "name": "stdout",
     "output_type": "stream",
     "text": [
      "banana\n"
     ]
    }
   ],
   "source": [
    "fruits = [\"apple\", \"banana\", \"cherry\", \"date\"]\n",
    "print(fruits[1])"
   ]
  },
  {
   "cell_type": "markdown",
   "id": "3934087c-7141-4765-8728-4610451ceeab",
   "metadata": {},
   "source": [
    "Question- Slicing: Create a list called numbers containing the numbers from 1 to 10. Print a\n",
    "slice of the list containing elements from the third element to the sixth element."
   ]
  },
  {
   "cell_type": "code",
   "execution_count": 42,
   "id": "c7f55413-34cd-49cb-8b19-0b9379d589d0",
   "metadata": {},
   "outputs": [
    {
     "name": "stdout",
     "output_type": "stream",
     "text": [
      "[4, 5, 6]\n"
     ]
    }
   ],
   "source": [
    "numbers = [1, 2, 3, 4, 5, 6, 7, 8, 9, 10]\n",
    "print(numbers[3:6])"
   ]
  },
  {
   "cell_type": "markdown",
   "id": "68de3d2b-10ca-4400-bdef-2ec26bf2ff70",
   "metadata": {},
   "source": [
    "## Sets\n",
    "Question - Adding and Removing Elements: Create an empty set called my_set. Add the\n",
    "numbers 1, 2, and 3 to my_set. Then remove the number 2 from the set."
   ]
  },
  {
   "cell_type": "code",
   "execution_count": 44,
   "id": "c0d75ed6-2395-47f6-a20f-7fbe3371f828",
   "metadata": {},
   "outputs": [
    {
     "name": "stdout",
     "output_type": "stream",
     "text": [
      "{1, 3}\n"
     ]
    }
   ],
   "source": [
    "my_set = set()\n",
    "\n",
    "my_set.add(1)\n",
    "my_set.add(2)\n",
    "my_set.add(3)\n",
    "\n",
    "my_set.remove(2)\n",
    "print(my_set)"
   ]
  },
  {
   "cell_type": "markdown",
   "id": "fdb60d37-6784-4a63-8f7b-eda187eb970b",
   "metadata": {},
   "source": [
    "Question - Operations: Create two sets called set1 and set2, each containing a few\n",
    "numbers. Print the union, intersection, and difference of the two sets."
   ]
  },
  {
   "cell_type": "code",
   "execution_count": 46,
   "id": "5bff9b4e-3cca-43f7-a2ee-d66b9c4b3da4",
   "metadata": {},
   "outputs": [
    {
     "name": "stdout",
     "output_type": "stream",
     "text": [
      "Union:\n",
      "{1, 2, 3, 35, 4, 6, 42}\n",
      "Intersection:\n",
      "{3, 6}\n",
      "Difference (set1 - set2):\n",
      "{1, 2, 42}\n"
     ]
    }
   ],
   "source": [
    "set1 = {1, 2, 3, 42, 6}\n",
    "set2 = {4, 6, 3, 35}\n",
    "\n",
    "print(\"Union:\")\n",
    "print(set1 | set2)\n",
    "\n",
    "print(\"Intersection:\")\n",
    "print(set1 & set2)\n",
    "\n",
    "print(\"Difference (set1 - set2):\")\n",
    "print(set1 - set2)"
   ]
  },
  {
   "cell_type": "markdown",
   "id": "1bcb6eb4-61d9-4405-af32-edb72262b2c7",
   "metadata": {},
   "source": [
    "## Tuples\n",
    "Question - Accessing Elements: Create a tuple called coordinates containing the latitude\n",
    "and longitude of a location (e.g., (40.7128, -74.0060) for New York City). Print the latitude\n",
    "and longitude separately."
   ]
  },
  {
   "cell_type": "code",
   "execution_count": 48,
   "id": "02c1dc26-d576-4aa5-93f7-75b2108a95db",
   "metadata": {},
   "outputs": [
    {
     "name": "stdout",
     "output_type": "stream",
     "text": [
      "40.7128\n",
      "-74.006\n"
     ]
    }
   ],
   "source": [
    "coordinates = (40.7128, -74.0060)\n",
    "\n",
    "print(coordinates[0])\n",
    "print(coordinates[1])"
   ]
  },
  {
   "cell_type": "markdown",
   "id": "f365e8c2-cf55-4258-ac2c-857c72ac0c6c",
   "metadata": {},
   "source": [
    "Question - Packing and Unpacking: Create a tuple called person containing information\n",
    "about a person, such as their name, age, and city. Then unpack the tuple into individual\n",
    "variables."
   ]
  },
  {
   "cell_type": "code",
   "execution_count": 50,
   "id": "ede73a16-3fe8-43b7-bc92-42bca427f662",
   "metadata": {},
   "outputs": [
    {
     "name": "stdout",
     "output_type": "stream",
     "text": [
      "Name:  Benni Age:  23 City:  Sydney\n"
     ]
    }
   ],
   "source": [
    "person = (\"Benni\", 23, \"Sydney\")\n",
    "\n",
    "name, age, city = person\n",
    "print(\"Name: \", name, \"Age: \", age, \"City: \", city)"
   ]
  }
 ],
 "metadata": {
  "kernelspec": {
   "display_name": "Python 3 (ipykernel)",
   "language": "python",
   "name": "python3"
  },
  "language_info": {
   "codemirror_mode": {
    "name": "ipython",
    "version": 3
   },
   "file_extension": ".py",
   "mimetype": "text/x-python",
   "name": "python",
   "nbconvert_exporter": "python",
   "pygments_lexer": "ipython3",
   "version": "3.12.4"
  }
 },
 "nbformat": 4,
 "nbformat_minor": 5
}
